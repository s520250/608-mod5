{
 "cells": [
  {
   "cell_type": "markdown",
   "id": "42fbea98-c417-44f0-9eaa-6d4a7241c611",
   "metadata": {},
   "source": [
    "# Sammie Bever Module 5"
   ]
  },
  {
   "cell_type": "markdown",
   "id": "ca1f6394-c677-44af-b91c-471db6b4df2b",
   "metadata": {},
   "source": [
    "# 7.14.1 Intro to Data Science: pandas Series and DataFrames"
   ]
  },
  {
   "cell_type": "code",
   "execution_count": 2,
   "id": "50f9613c-8e86-4a18-812d-9c149a916be9",
   "metadata": {},
   "outputs": [],
   "source": [
    "import pandas as pd"
   ]
  },
  {
   "cell_type": "code",
   "execution_count": 3,
   "id": "a381272f-2ce2-4451-b893-e05410a7f168",
   "metadata": {},
   "outputs": [],
   "source": [
    "grades = pd.Series([87, 100, 94])"
   ]
  },
  {
   "cell_type": "code",
   "execution_count": 4,
   "id": "4c7b983a-b182-420e-b076-90af58151ed1",
   "metadata": {},
   "outputs": [
    {
     "data": {
      "text/plain": [
       "0     87\n",
       "1    100\n",
       "2     94\n",
       "dtype: int64"
      ]
     },
     "execution_count": 4,
     "metadata": {},
     "output_type": "execute_result"
    }
   ],
   "source": [
    "grades"
   ]
  },
  {
   "cell_type": "code",
   "execution_count": 5,
   "id": "b0354f59-cb23-4724-bda3-732ac16c5e0f",
   "metadata": {},
   "outputs": [
    {
     "data": {
      "text/plain": [
       "0    98.6\n",
       "1    98.6\n",
       "2    98.6\n",
       "dtype: float64"
      ]
     },
     "execution_count": 5,
     "metadata": {},
     "output_type": "execute_result"
    }
   ],
   "source": [
    "pd.Series(98.6, range(3))"
   ]
  },
  {
   "cell_type": "code",
   "execution_count": 6,
   "id": "7aa99b5c-0dd6-4027-a4c8-3ee69921ad79",
   "metadata": {},
   "outputs": [
    {
     "data": {
      "text/plain": [
       "87"
      ]
     },
     "execution_count": 6,
     "metadata": {},
     "output_type": "execute_result"
    }
   ],
   "source": [
    "grades[0]"
   ]
  },
  {
   "cell_type": "code",
   "execution_count": 7,
   "id": "46672a3d-ae81-4676-a76f-f2f77b07d46c",
   "metadata": {},
   "outputs": [
    {
     "data": {
      "text/plain": [
       "3"
      ]
     },
     "execution_count": 7,
     "metadata": {},
     "output_type": "execute_result"
    }
   ],
   "source": [
    "grades.count()"
   ]
  },
  {
   "cell_type": "code",
   "execution_count": 8,
   "id": "376e2b5f-f06f-4b37-b1ac-7cc130dcf5f7",
   "metadata": {},
   "outputs": [
    {
     "data": {
      "text/plain": [
       "93.66666666666667"
      ]
     },
     "execution_count": 8,
     "metadata": {},
     "output_type": "execute_result"
    }
   ],
   "source": [
    "grades.mean()"
   ]
  },
  {
   "cell_type": "code",
   "execution_count": 9,
   "id": "bd6abd99-cd1d-48e6-9c25-3a8e90552d49",
   "metadata": {},
   "outputs": [
    {
     "data": {
      "text/plain": [
       "87"
      ]
     },
     "execution_count": 9,
     "metadata": {},
     "output_type": "execute_result"
    }
   ],
   "source": [
    "grades.min()"
   ]
  },
  {
   "cell_type": "code",
   "execution_count": 10,
   "id": "9da9c4a0-125c-475f-a505-63ad73737ffd",
   "metadata": {},
   "outputs": [
    {
     "data": {
      "text/plain": [
       "100"
      ]
     },
     "execution_count": 10,
     "metadata": {},
     "output_type": "execute_result"
    }
   ],
   "source": [
    "grades.max()"
   ]
  },
  {
   "cell_type": "code",
   "execution_count": 11,
   "id": "adccdd0a-91b4-450c-81f1-d22c4519533d",
   "metadata": {},
   "outputs": [
    {
     "data": {
      "text/plain": [
       "6.506407098647712"
      ]
     },
     "execution_count": 11,
     "metadata": {},
     "output_type": "execute_result"
    }
   ],
   "source": [
    "grades.std()"
   ]
  },
  {
   "cell_type": "code",
   "execution_count": 12,
   "id": "823ed0c9-fcf3-4be4-ae86-033c47a04487",
   "metadata": {},
   "outputs": [
    {
     "data": {
      "text/plain": [
       "count      3.000000\n",
       "mean      93.666667\n",
       "std        6.506407\n",
       "min       87.000000\n",
       "25%       90.500000\n",
       "50%       94.000000\n",
       "75%       97.000000\n",
       "max      100.000000\n",
       "dtype: float64"
      ]
     },
     "execution_count": 12,
     "metadata": {},
     "output_type": "execute_result"
    }
   ],
   "source": [
    "grades.describe()"
   ]
  },
  {
   "cell_type": "code",
   "execution_count": 14,
   "id": "d7b63973-d0de-4d05-99d9-9c0a401ee0f3",
   "metadata": {},
   "outputs": [],
   "source": [
    "grades = pd.Series([87, 100, 94], index=['Wally', 'Eva', 'Sam'])"
   ]
  },
  {
   "cell_type": "code",
   "execution_count": 15,
   "id": "e457b337-eef5-4bb4-b0bb-2bad89516a76",
   "metadata": {},
   "outputs": [
    {
     "data": {
      "text/plain": [
       "Wally     87\n",
       "Eva      100\n",
       "Sam       94\n",
       "dtype: int64"
      ]
     },
     "execution_count": 15,
     "metadata": {},
     "output_type": "execute_result"
    }
   ],
   "source": [
    "grades"
   ]
  },
  {
   "cell_type": "code",
   "execution_count": 16,
   "id": "4a34a3d5-4633-4558-aecb-37f9c2f398e4",
   "metadata": {},
   "outputs": [],
   "source": [
    "grades = pd.Series({'Wally': 87, 'Eva': 100, 'Sam': 94})"
   ]
  },
  {
   "cell_type": "code",
   "execution_count": 17,
   "id": "a06a2515-3a09-4a89-8243-457aa70301de",
   "metadata": {},
   "outputs": [
    {
     "data": {
      "text/plain": [
       "Wally     87\n",
       "Eva      100\n",
       "Sam       94\n",
       "dtype: int64"
      ]
     },
     "execution_count": 17,
     "metadata": {},
     "output_type": "execute_result"
    }
   ],
   "source": [
    "grades"
   ]
  },
  {
   "cell_type": "code",
   "execution_count": 18,
   "id": "ab32edc2-cb7c-42a1-86e3-028b8dc9fa3d",
   "metadata": {},
   "outputs": [
    {
     "data": {
      "text/plain": [
       "100"
      ]
     },
     "execution_count": 18,
     "metadata": {},
     "output_type": "execute_result"
    }
   ],
   "source": [
    "grades['Eva']"
   ]
  },
  {
   "cell_type": "code",
   "execution_count": 19,
   "id": "9b8140ea-e86a-4595-9dd4-4ffc986b7167",
   "metadata": {},
   "outputs": [
    {
     "data": {
      "text/plain": [
       "87"
      ]
     },
     "execution_count": 19,
     "metadata": {},
     "output_type": "execute_result"
    }
   ],
   "source": [
    "grades.Wally"
   ]
  },
  {
   "cell_type": "code",
   "execution_count": 20,
   "id": "30e67c03-e3d7-4cc5-8914-f9e03dcc6b67",
   "metadata": {},
   "outputs": [
    {
     "data": {
      "text/plain": [
       "dtype('int64')"
      ]
     },
     "execution_count": 20,
     "metadata": {},
     "output_type": "execute_result"
    }
   ],
   "source": [
    "grades.dtype"
   ]
  },
  {
   "cell_type": "code",
   "execution_count": 21,
   "id": "bcf9fd33-27a5-4ee7-bebf-d64fe3d84c64",
   "metadata": {},
   "outputs": [
    {
     "data": {
      "text/plain": [
       "array([ 87, 100,  94], dtype=int64)"
      ]
     },
     "execution_count": 21,
     "metadata": {},
     "output_type": "execute_result"
    }
   ],
   "source": [
    "grades.values"
   ]
  },
  {
   "cell_type": "markdown",
   "id": "cf795874-4c0e-45e0-90bc-0b20bf7d65b5",
   "metadata": {},
   "source": [
    "# Sammie Bever"
   ]
  },
  {
   "cell_type": "code",
   "execution_count": 22,
   "id": "2c44ab66-d6f4-491f-ad93-b14cf3f66a55",
   "metadata": {},
   "outputs": [],
   "source": [
    "hardware = pd.Series(['Hammer', 'Saw', 'Wrench'])"
   ]
  },
  {
   "cell_type": "code",
   "execution_count": 23,
   "id": "9b6a6081-9acc-4c8c-8f0a-1c9289a08581",
   "metadata": {},
   "outputs": [
    {
     "data": {
      "text/plain": [
       "0    Hammer\n",
       "1       Saw\n",
       "2    Wrench\n",
       "dtype: object"
      ]
     },
     "execution_count": 23,
     "metadata": {},
     "output_type": "execute_result"
    }
   ],
   "source": [
    "hardware"
   ]
  },
  {
   "cell_type": "code",
   "execution_count": 24,
   "id": "6796d43e-82ee-47e8-835c-b91643455e5f",
   "metadata": {},
   "outputs": [
    {
     "data": {
      "text/plain": [
       "0     True\n",
       "1     True\n",
       "2    False\n",
       "dtype: bool"
      ]
     },
     "execution_count": 24,
     "metadata": {},
     "output_type": "execute_result"
    }
   ],
   "source": [
    "hardware.str.contains('a')"
   ]
  },
  {
   "cell_type": "code",
   "execution_count": 25,
   "id": "67602fe4-0e53-4ae5-a8cc-9d0c33c6ecd6",
   "metadata": {},
   "outputs": [
    {
     "data": {
      "text/plain": [
       "0    HAMMER\n",
       "1       SAW\n",
       "2    WRENCH\n",
       "dtype: object"
      ]
     },
     "execution_count": 25,
     "metadata": {},
     "output_type": "execute_result"
    }
   ],
   "source": [
    "hardware.str.upper()"
   ]
  },
  {
   "cell_type": "code",
   "execution_count": 26,
   "id": "a2dd9fca-1e8d-43f9-a37a-5a8cbdce6a67",
   "metadata": {},
   "outputs": [],
   "source": [
    "import numpy as np"
   ]
  },
  {
   "cell_type": "code",
   "execution_count": 27,
   "id": "32bc28a2-9c29-4bae-8273-b8dbeff50b9c",
   "metadata": {},
   "outputs": [],
   "source": [
    "import pandas as pd"
   ]
  },
  {
   "cell_type": "code",
   "execution_count": 29,
   "id": "5cb08215-7f2a-4d29-a345-1f21967993e5",
   "metadata": {},
   "outputs": [],
   "source": [
    "temps = np.random.randint(60, 101, 6)"
   ]
  },
  {
   "cell_type": "code",
   "execution_count": 30,
   "id": "fcf7a57e-b6f3-4e3a-bf77-42f216b2d27e",
   "metadata": {},
   "outputs": [],
   "source": [
    "temperatures = pd.Series(temps)"
   ]
  },
  {
   "cell_type": "code",
   "execution_count": 31,
   "id": "53793b2f-c9ea-4a4f-b7ec-ff31387abb95",
   "metadata": {},
   "outputs": [
    {
     "data": {
      "text/plain": [
       "0    94\n",
       "1    65\n",
       "2    71\n",
       "3    65\n",
       "4    87\n",
       "5    81\n",
       "dtype: int32"
      ]
     },
     "execution_count": 31,
     "metadata": {},
     "output_type": "execute_result"
    }
   ],
   "source": [
    "temperatures"
   ]
  },
  {
   "cell_type": "code",
   "execution_count": 32,
   "id": "c4e00735-ae54-4c18-87f2-afe8b37e0cb4",
   "metadata": {},
   "outputs": [
    {
     "data": {
      "text/plain": [
       "65"
      ]
     },
     "execution_count": 32,
     "metadata": {},
     "output_type": "execute_result"
    }
   ],
   "source": [
    "temperatures.min()"
   ]
  },
  {
   "cell_type": "code",
   "execution_count": 33,
   "id": "9530f7e4-277f-49c0-97c6-efd41107edd2",
   "metadata": {},
   "outputs": [
    {
     "data": {
      "text/plain": [
       "94"
      ]
     },
     "execution_count": 33,
     "metadata": {},
     "output_type": "execute_result"
    }
   ],
   "source": [
    "temperatures.max()"
   ]
  },
  {
   "cell_type": "code",
   "execution_count": 34,
   "id": "1b23bbaa-1344-489e-9e8b-f20b7ecfb7b0",
   "metadata": {},
   "outputs": [
    {
     "data": {
      "text/plain": [
       "77.16666666666667"
      ]
     },
     "execution_count": 34,
     "metadata": {},
     "output_type": "execute_result"
    }
   ],
   "source": [
    "temperatures.mean()"
   ]
  },
  {
   "cell_type": "code",
   "execution_count": 35,
   "id": "a33608e8-11de-412d-bc8b-d3f50b6bafa8",
   "metadata": {},
   "outputs": [
    {
     "data": {
      "text/plain": [
       "count     6.000000\n",
       "mean     77.166667\n",
       "std      12.073387\n",
       "min      65.000000\n",
       "25%      66.500000\n",
       "50%      76.000000\n",
       "75%      85.500000\n",
       "max      94.000000\n",
       "dtype: float64"
      ]
     },
     "execution_count": 35,
     "metadata": {},
     "output_type": "execute_result"
    }
   ],
   "source": [
    "temperatures.describe()"
   ]
  },
  {
   "cell_type": "markdown",
   "id": "d496c099-e4e0-4bef-ab8d-e8f484bdbeec",
   "metadata": {},
   "source": [
    "# Sammie Bever"
   ]
  }
 ],
 "metadata": {
  "kernelspec": {
   "display_name": "Python 3 (ipykernel)",
   "language": "python",
   "name": "python3"
  },
  "language_info": {
   "codemirror_mode": {
    "name": "ipython",
    "version": 3
   },
   "file_extension": ".py",
   "mimetype": "text/x-python",
   "name": "python",
   "nbconvert_exporter": "python",
   "pygments_lexer": "ipython3",
   "version": "3.9.7"
  }
 },
 "nbformat": 4,
 "nbformat_minor": 5
}
